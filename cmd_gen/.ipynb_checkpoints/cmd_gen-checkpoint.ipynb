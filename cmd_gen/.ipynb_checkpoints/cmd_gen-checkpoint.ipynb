{
 "cells": [
  {
   "cell_type": "code",
   "execution_count": 1,
   "metadata": {},
   "outputs": [],
   "source": [
    "import os \n",
    "import copy \n",
    "import json\n",
    "from subprocess import Popen, PIPE\n"
   ]
  },
  {
   "cell_type": "code",
   "execution_count": 2,
   "metadata": {},
   "outputs": [],
   "source": [
    "class _gen_flags:\n",
    "    def __init__(self):\n",
    "        pass\n",
    "\n",
    "gen_flags = _gen_flags()\n",
    "gen_flags.eval_path = \"../eval_image_classifier_summary.py\"\n",
    "gen_flags.train_path = \"../train_image_classifier.py\"\n",
    "script_map = {\"eval\":gen_flags.eval_path, \"train\": gen_flags.train_path}"
   ]
  },
  {
   "cell_type": "code",
   "execution_count": 3,
   "metadata": {},
   "outputs": [],
   "source": [
    "class GenCmd:\n",
    "    def __init__(self, config_dict):\n",
    "        self._config_dict = config_dict\n",
    "    def _gen_cmd(self):\n",
    "        str_cmd = \"\"\n",
    "        for k, v in self._config_dict.items():\n",
    "            if k!=\"method\":\n",
    "                str_cmd  =\" \" +  str_cmd + \"--\" +  k +\"=\"+ v + \" \"\n",
    "        return \"python \" + script_map[self._config_dict[\"method\"]] + \" \" + str_cmd\n",
    "    \n",
    "    def _gen_cmd_list(self):\n",
    "        list_cmd  = []\n",
    "        list_cmd.append(\"python\")\n",
    "        list_cmd.append(script_map[self._config_dict[\"method\"]])\n",
    "        for k, v in self._config_dict.items():\n",
    "            if k!=\"method\":\n",
    "                list_cmd.append(\"--\"+k)\n",
    "                list_cmd.append(v)\n",
    "        return list_cmd\n",
    "    def execute_cmd(self):\n",
    "        cmd = self._gen_cmd_list()\n",
    "        print(cmd)\n",
    "        p = Popen(cmd, stdin=PIPE, stdout=PIPE, stderr=PIPE)\n",
    "        output, err = p.communicate()\n",
    "        rc = p.returncode\n",
    "        #return bytes str. output : stdout, err: stderr, rc: return code \n",
    "        return output,err, rc "
   ]
  },
  {
   "cell_type": "code",
   "execution_count": 4,
   "metadata": {
    "scrolled": true
   },
   "outputs": [],
   "source": [
    "class SeqRunner:\n",
    "    def __init__(self,task_dict):\n",
    "        self.task_name = task_dict[\"task_name\"]\n",
    "#         self.target_dir = task_json[\"target_dir\"]\n",
    "        self.task_seq = task_dict[\"task_seq\"]\n",
    "        self.task_dict = copy.deepcopy(task_dict)\n",
    "    def run(self):\n",
    "        \n",
    "        ind = 0 \n",
    "        for task in self.task_seq:\n",
    "            describe = task\n",
    "            cmd = GenCmd(task)\n",
    "            normal_output, err_output, rcode = cmd.execute_cmd()\n",
    "            describe[\"std_out\"]=normal_output\n",
    "            describe[\"err_output\"]=normal_output\n",
    "            describe[\"return_code\"]=rcode\n",
    "            self.task_dict[\"task_seq\"][ind ] = describe \n",
    "            ind = ind + 1 \n",
    "        path =\"\"\n",
    "        if cmd._config_dict['method'] == 'train':\n",
    "            path = cmd._config_dict['train_dir']\n",
    "        else:\n",
    "            path = cmd._config_dict['eval_dir']\n",
    "        with open(os.path.join(path,\"describe.json\"),\"w\") as outfile:\n",
    "            json.dump(self.task_dict,outfile)\n",
    "      \n"
   ]
  },
  {
   "cell_type": "code",
   "execution_count": 5,
   "metadata": {},
   "outputs": [],
   "source": [
    "class ConfigFactory:\n",
    "    def __init__(self):\n",
    "        pass\n",
    "    def _gen_mobile_net_train(self,checkpoint_path, dataset_dir, train_dir,dataset_name=\"rcmp\",batch_size=32,dataset_split_name=\"train\"):\n",
    "        train_dict[\"method\"]=\"train\"\n",
    "        train_dict[\"train_dir\"] = train_dir\n",
    "        train_dict[\"dataset_dir\"] = dataset_dir\n",
    "        train_dict[\"dataset_name\"]=dataset_name\n",
    "        train_dict[\"dataset_split_name\"]=dataset_split_name\n",
    "        train_dict[\"model_name\"]=\"mobilenet_v1\"\n",
    "        train_dict[\"checkpoint_path\"]=checkpoint_path\n",
    "        train_dict[\"max_number_of_steps\"]=\"50\"\n",
    "        train_dict[\"batch_size\"]=str(batch_size)\n",
    "        train_dict[\"learning_rate\"]=\"0.0001\"\n",
    "        train_dict[\"learning_rate_decay_type\"]=\"fixed\"\n",
    "        train_dict[\"log_very_n_steps\"]=\"10\"\n",
    "        train_dict[\"optimizer\"]=\"rmsprop\"\n",
    "        train_dict[\"weight_decay\"]=\"0.00004\"\n",
    "        train_dict[\"preprocessing_name\"]=\"inception\"\n",
    "        train_dict[\"labels_offset\"]=\"1\"\n",
    "        #the following two scopes need spcial attention. \n",
    "        train_dict[\"checkpoint_exclude_scopes\"]=\"MobilenetV1/Logits,MobilenetV1/AuxLogits\"\n",
    "        train_dict[\"trainable_scopes\"]=\"MobilenetV1/Logits,MobilenetV1/AuxLogits\"\n",
    "        train_dict[\"save_interval_secs\"]=\"600\" \n",
    "        train_dict[\"save_summaries_secs\"]=\"60\" \n",
    "        return train_dict \n",
    "    def _gen_common_train(self,checkpoint_path, dataset_dir, train_dir,dataset_name=\"rcmp\",batch_size=32,dataset_split_name=\"train\"):\n",
    "        train_dict={}\n",
    "        train_dict[\"method\"]=\"train\"\n",
    "        train_dict[\"train_dir\"] = train_dir\n",
    "        train_dict[\"dataset_dir\"] = dataset_dir\n",
    "        train_dict[\"dataset_name\"]=dataset_name\n",
    "        train_dict[\"dataset_split_name\"]=dataset_split_name\n",
    "        train_dict[\"batch_size\"]=str(batch_size)\n",
    "\n",
    "        train_dict[\"optimizer\"]=\"rmsprop\"\n",
    "        train_dict[\"weight_decay\"]=\"0.00004\"\n",
    "        train_dict[\"learning_rate_decay_type\"]=\"fixed\"\n",
    "        train_dict[\"labels_offset\"]=\"1\"\n",
    "        \n",
    "        train_dict[\"preprocessing_name\"]=\"inception\"\n",
    "        \n",
    "        train_dict[\"save_interval_secs\"]=\"600\" \n",
    "        train_dict[\"save_summaries_secs\"]=\"60\" \n",
    "        \n",
    "        return train_dict\n",
    "    def _gen_common_eval(self,checkpoint_path,dataset_dir,eval_dir,dataset_name=\"rcmp\",dataset_split_name=\"validation\"):\n",
    "        \"\"\"\n",
    "        usually make eval_dir == checkpoint_dir for evaluation \n",
    "        \"\"\"\n",
    "        example_dict[\"method\"] = \"eval\"\n",
    "        example_dict[\"eval_dir\"] = eval_dir\n",
    "        example_dict[\"dataset_name\"] = dataset_name\n",
    "        example_dict[\"dataset_dir\"] = dataset_dir\n",
    "        example_dict[\"dataset_split_name\"] = dataset_split_name\n",
    "        example_dict[\"checkpoint_path\"] = checkpoint_path\n",
    "        example_dict[\"labels_offset\"]=\"1\"\n",
    "        return example_dict\n",
    "    \n",
    "    def _gen_inception_v3_train(self,checkpoint_path, dataset_dir, train_dir,dataset_name=\"rcmp\",batch_size=32,dataset_split_name=\"train\"):\n",
    "        train_dict = self._gen_common_train(checkpoint_path, dataset_dir, train_dir,dataset_name,batch_size,dataset_split_name)\n",
    "        train_dict[\"model_name\"]=\"inception_v3\"\n",
    "        train_dict[\"learning_rate\"] = \"0.01\"\n",
    "        train_dict[\"max_number_of_steps\"] = \"50\"\n",
    "        train_dict[\"trainable_scopes\"] =\"InceptionV3/Logits,InceptionV3/AuxLogits\"\n",
    "        train_dict[\"checkpoint_exclude_scopes\"] =\"InceptionV3/Logits,InceptionV3/AuxLogits\"\n",
    "        return train_dict\n",
    "    \n",
    "    def _gen_inception_v3_eval(self,checkpoint_path,dataset_dir,eval_dir,dataset_name=\"rcmp\",dataset_split_name=\"validation\"):\n",
    "        example_dict  = self._gen_common_eval(checkpoint_path, dataset_dir, eval_dir,dataset_name,batch_size,dataset_split_name)\n",
    "        example_dict[\"model_name\"]=\"inception_v3\"\n",
    "        return example_dict\n",
    "     \n",
    "    def _gen_inception_resnet_v2_train(self,checkpoint_path, dataset_dir, train_dir,dataset_name=\"rcmp\",batch_size=32,dataset_split_name=\"train\"):\n",
    "        train_dict = self._gen_common_train(checkpoint_path, dataset_dir, train_dir,dataset_name,batch_size,dataset_split_name)\n",
    "        train_dict[\"model_name\"]=\"inception_resnet_v2\"\n",
    "        train_dict[\"learning_rate\"] = \"0.01\"\n",
    "        train_dict[\"max_number_of_steps\"] = \"50\"\n",
    "        train_dict[\"trainable_scopes\"] =\"InceptionResnetV2/Logits,InceptionResnetV2/AuxLogits\"\n",
    "        train_dict[\"checkpoint_exclude_scopes\"] =\"InceptionResnetV2/Logits,InceptionResnetV2/AuxLogits\"\n",
    "        return train_dict\n",
    "    \n",
    "    def _gen_inception_resnet_v2_eval(self,checkpoint_path,dataset_dir,eval_dir,dataset_name=\"rcmp\",dataset_split_name=\"validation\"):\n",
    "        example_dict  = self._gen_common_eval(checkpoint_path, dataset_dir, eval_dir,dataset_name,batch_size,dataset_split_name)\n",
    "        example_dict[\"model_name\"]=\"inception_resnet_v2\"\n",
    "        return example_dict\n",
    "    \n",
    "    def _gen_mobile_net_eval(self,checkpoint_path,dataset_dir,eval_dir,dataset_name=\"rcmp\",dataset_split_name=\"validation\"):\n",
    "        \"\"\"\n",
    "        usually make eval_dir == checkpoint_dir for evaluation \n",
    "        \"\"\"\n",
    "        example_dict[\"method\"] = \"eval\"\n",
    "        example_dict[\"eval_dir\"] = eval_dir\n",
    "        example_dict[\"dataset_name\"] = dataset_name\n",
    "        example_dict[\"model_name\"] =\"mobilenet_v1\"\n",
    "        example_dict[\"dataset_dir\"] = dataset_dir\n",
    "        example_dict[\"dataset_split_name\"] = dataset_split_name\n",
    "        example_dict[\"checkpoint_path\"] = checkpoint_path\n",
    "        example_dict[\"labels_offset\"]=\"1\"\n",
    "        return example_dict\n",
    "    def _gen_default():\n",
    "        de = {}\n",
    "        return de \n",
    "    def gen_fn(self,task_type):\n",
    "        factory_map = {\n",
    "            \"eval:mobile_net_v1\": self._gen_mobile_net_eval,\n",
    "            \"train:mobile_net_v1\": self._gen_mobile_net_train,\n",
    "            \"eval:inception_resnet_v2\":self._gen_inception_resnet_v2_eval,\n",
    "            \"train:inception_resnet_v2\":self._gen_inception_resnet_v2_train,\n",
    "            \"eval:inception_v3\":self._gen_inception_v3_eval,\n",
    "            \"train:inception_v3\":self._gen_inception_v3_train,\n",
    "            \n",
    "        }\n",
    "        if task_type in factory_map.keys():\n",
    "            return factory_map[task_type]\n",
    "        else:\n",
    "            return self._gen_defaul5"
   ]
  },
  {
   "cell_type": "code",
   "execution_count": 6,
   "metadata": {},
   "outputs": [],
   "source": [
    "def path_gen(ckpt,train_folder):\n",
    "    train_path = os.path.join(\".\", train_folder)\n",
    "    return ckpt, train_path, train_path \n"
   ]
  },
  {
   "cell_type": "code",
   "execution_count": 7,
   "metadata": {},
   "outputs": [],
   "source": [
    "\n",
    "TRAIN_DIR=\"/tmp/flowers-models/mobilenet_v1_1.0_224\"\n",
    "DATASET_DIR=\"/home/renming.qi/flower_photos\"\n",
    "PRETRAINED_CHECKPOINT_DIR=\"/tmp/checkpoints\"\n",
    "\n",
    "example_dict = {}\n",
    "example_dict[\"method\"] = \"eval\"\n",
    "example_dict[\"eval_dir\"] = \"./eval\"\n",
    "example_dict[\"dataset_name\"] = \"rcmp\"\n",
    "example_dict[\"model_name\"] =\"mobilenet_v1\"\n",
    "example_dict[\"dataset_dir\"] = DATASET_DIR\n",
    "example_dict[\"dataset_split_name\"] = \"validation\"\n",
    "example_dict[\"checkpoint_path\"] =  \"./ckpt\"\n",
    "example_dict[\"labels_offset\"]=\"1\"\n",
    "\n",
    "train_dict = {}\n",
    "train_dict[\"method\"]=\"train\"\n",
    "train_dict[\"train_dir\"] = \"./ckpt\"\n",
    "train_dict[\"dataset_dir\"] = DATASET_DIR\n",
    "train_dict[\"dataset_name\"]=\"rcmp\"\n",
    "train_dict[\"dataset_split_name\"]=\"train\"\n",
    "train_dict[\"model_name\"]=\"mobilenet_v1\"\n",
    "train_dict[\"checkpoint_path\"]=\"/home/renming.qi/models/pretrained/mobilenet_v1/mobilenet_v1_1.0_224.ckpt\"\n",
    "train_dict[\"max_number_of_steps\"]=\"50\"\n",
    "train_dict[\"batch_size\"]=\"8\"\n",
    "train_dict[\"learning_rate\"]=\"0.0001\"\n",
    "train_dict[\"learning_rate_decay_type\"]=\"fixed\"\n",
    "train_dict[\"log_very_n_steps\"]=\"10\"\n",
    "train_dict[\"optimizer\"]=\"rmsprop\"\n",
    "train_dict[\"weight_decay\"]=\"0.00004\"\n",
    "train_dict[\"preprocessing_name\"]=\"inception\"\n",
    "train_dict[\"labels_offset\"]=\"1\"\n",
    "train_dict[\"checkpoint_exclude_scopes\"]=\"MobilenetV1/Logits,MobilenetV1/AuxLogits\"\n",
    "train_dict[\"trainable_scopes\"]=\"MobilenetV1/Logits,MobilenetV1/AuxLogits\""
   ]
  },
  {
   "cell_type": "code",
   "execution_count": 5,
   "metadata": {},
   "outputs": [
    {
     "name": "stdout",
     "output_type": "stream",
     "text": [
      "('/home/renming.qi/models/pretrained/mobilenet_v1/mobilenet_v1_1.0_224.ckpt', './test_gen', './test_gen')\n"
     ]
    }
   ],
   "source": [
    "from gen_util import *\n",
    "DATASET_DIR=\"/home/renming.qi/flower_photos\"\n",
    "\n",
    "ck_path = \"/home/renming.qi/models/pretrained/mobilenet_v1/mobilenet_v1_1.0_224.ckpt\"\n",
    "train_folder = \"test_gen\"\n",
    "ck_path , train_p, eval_p = path_gen(ck_path,train_folder=train_folder)\n",
    "print(ck_path,train_p,eval_p)\n",
    "train_dict = {}\n",
    "config_gen = ConfigFactory()\n",
    "\n",
    "train_config = config_gen.gen_fn(\"train:mobile_net_v1\")\n",
    "train_config = train_config(ck_path,DATASET_DIR,train_p)\n",
    "eval_config = config_gen.gen_fn(\"eval:mobile_net_v1\")\n",
    "eval_config = eval_config(train_p,DATASET_DIR,eval_p)"
   ]
  },
  {
   "cell_type": "code",
   "execution_count": 7,
   "metadata": {},
   "outputs": [
    {
     "name": "stdout",
     "output_type": "stream",
     "text": [
      "{'log_very_n_steps': '10', 'checkpoint_path': '/home/renming.qi/models/pretrained/mobilenet_v1/mobilenet_v1_1.0_224.ckpt', 'optimizer': 'rmsprop', 'preprocessing_name': 'inception', 'dataset_split_name': 'train', 'save_summaries_secs': '60', 'learning_rate': '0.0001', 'train_dir': './test_gen', 'trainable_scopes': 'MobilenetV1/Logits,MobilenetV1/AuxLogits', 'batch_size': '32', 'method': 'train', 'save_interval_secs': '600', 'labels_offset': '1', 'max_number_of_steps': '50', 'dataset_dir': '/home/renming.qi/flower_photos', 'learning_rate_decay_type': 'fixed', 'weight_decay': '0.00004', 'model_name': 'mobilenet_v1', 'dataset_name': 'rcmp', 'checkpoint_exclude_scopes': 'MobilenetV1/Logits,MobilenetV1/AuxLogits'}\n",
      "{'checkpoint_path': './test_gen', 'eval_dir': './test_gen', 'dataset_split_name': 'validation', 'model_name': 'mobilenet_v1', 'labels_offset': '1', 'dataset_dir': '/home/renming.qi/flower_photos', 'method': 'eval', 'dataset_name': 'rcmp'}\n"
     ]
    }
   ],
   "source": [
    "print(train_config)\n",
    "print(eval_config)"
   ]
  },
  {
   "cell_type": "code",
   "execution_count": 3,
   "metadata": {
    "slideshow": {
     "slide_type": "slide"
    }
   },
   "outputs": [],
   "source": [
    " def _gen_mobile_net_train(checkpoint_path, dataset_dir, train_dir,dataset_name=\"rcmp\",batch_size=32,dataset_split_name=\"train\"):\n",
    "        train_dict = {}\n",
    "        train_dict[\"method\"]=\"train\"\n",
    "        train_dict[\"train_dir\"] = train_dir\n",
    "        train_dict[\"dataset_dir\"] = dataset_dir\n",
    "        train_dict[\"dataset_name\"]=dataset_name\n",
    "        train_dict[\"dataset_split_name\"]=dataset_split_name\n",
    "        train_dict[\"model_name\"]=\"mobilenet_v1\"\n",
    "        train_dict[\"checkpoint_path\"]=checkpoint_path\n",
    "        train_dict[\"max_number_of_steps\"]=\"50\"\n",
    "        train_dict[\"batch_size\"]=str(batch_size)\n",
    "        train_dict[\"learning_rate\"]=\"0.0001\"\n",
    "        train_dict[\"learning_rate_decay_type\"]=\"fixed\"\n",
    "        train_dict[\"log_very_n_steps\"]=\"10\"\n",
    "        train_dict[\"optimizer\"]=\"rmsprop\"\n",
    "        train_dict[\"weight_decay\"]=\"0.00004\"\n",
    "        train_dict[\"preprocessing_name\"]=\"inception\"\n",
    "        train_dict[\"labels_offset\"]=\"1\"\n",
    "        #the following two scopes need spcial attention. \n",
    "        train_dict[\"checkpoint_exclude_scopes\"]=\"MobilenetV1/Logits,MobilenetV1/AuxLogits\"\n",
    "        train_dict[\"trainable_scopes\"]=\"MobilenetV1/Logits,MobilenetV1/AuxLogits\"\n",
    "        train_dict[\"save_interval_secs\"]=\"600\" \n",
    "        train_dict[\"save_summaries_secs\"]=\"60\" \n",
    "        return train_dict \n"
   ]
  },
  {
   "cell_type": "code",
   "execution_count": 10,
   "metadata": {},
   "outputs": [
    {
     "data": {
      "text/plain": [
       "{'checkpoint_path': './test_gen',\n",
       " 'dataset_dir': '/home/renming.qi/flower_photos',\n",
       " 'dataset_name': 'rcmp',\n",
       " 'dataset_split_name': 'validation',\n",
       " 'eval_dir': './test_gen',\n",
       " 'labels_offset': '1',\n",
       " 'method': 'eval',\n",
       " 'model_name': 'mobilenet_v1'}"
      ]
     },
     "execution_count": 10,
     "metadata": {},
     "output_type": "execute_result"
    }
   ],
   "source": [
    "eval_config"
   ]
  },
  {
   "cell_type": "code",
   "execution_count": 11,
   "metadata": {},
   "outputs": [],
   "source": [
    "task_seq = {\"task_name\":\"mobile_net_v1\",\"task_seq\":[train_config,eval_config]}"
   ]
  },
  {
   "cell_type": "code",
   "execution_count": 12,
   "metadata": {},
   "outputs": [
    {
     "name": "stdout",
     "output_type": "stream",
     "text": [
      "['python', '../train_image_classifier.py', '--log_very_n_steps', '10', '--checkpoint_path', '/home/renming.qi/models/pretrained/mobilenet_v1/mobilenet_v1_1.0_224.ckpt', '--optimizer', 'rmsprop', '--preprocessing_name', 'inception', '--dataset_split_name', 'train', '--save_summaries_secs', '60', '--learning_rate', '0.0001', '--train_dir', './test_gen', '--trainable_scopes', 'MobilenetV1/Logits,MobilenetV1/AuxLogits', '--batch_size', '32', '--save_interval_secs', '600', '--labels_offset', '1', '--max_number_of_steps', '50', '--dataset_dir', '/home/renming.qi/flower_photos', '--learning_rate_decay_type', 'fixed', '--weight_decay', '0.00004', '--model_name', 'mobilenet_v1', '--dataset_name', 'rcmp', '--checkpoint_exclude_scopes', 'MobilenetV1/Logits,MobilenetV1/AuxLogits']\n",
      "['python', '../eval_image_classifier_summary.py', '--checkpoint_path', './test_gen', '--eval_dir', './test_gen', '--dataset_split_name', 'validation', '--model_name', 'mobilenet_v1', '--labels_offset', '1', '--dataset_dir', '/home/renming.qi/flower_photos', '--dataset_name', 'rcmp']\n"
     ]
    }
   ],
   "source": [
    "runner = SeqRunner(task_seq)\n",
    "runner.run()"
   ]
  },
  {
   "cell_type": "code",
   "execution_count": null,
   "metadata": {},
   "outputs": [],
   "source": [
    "import json"
   ]
  },
  {
   "cell_type": "code",
   "execution_count": null,
   "metadata": {},
   "outputs": [],
   "source": [
    "ex_j = json.dumps(example_dict)\n",
    "tr_j = json.dumps(train_dict)\n"
   ]
  },
  {
   "cell_type": "code",
   "execution_count": null,
   "metadata": {},
   "outputs": [],
   "source": [
    "x = json.loads((json.dumps(t)))['task_list']\n",
    "x"
   ]
  },
  {
   "cell_type": "code",
   "execution_count": null,
   "metadata": {},
   "outputs": [],
   "source": [
    "def get_checkpoint_file( ck_path,max_to_keep=3):\n",
    "    with open(os.path.join(ck_path,\"checkpoint\")) as ckfile:\n",
    "        content = ckfile.read()\n",
    "#         l = [x.strip() for x in content]\n",
    "#         print(l)\n",
    "        return content\n",
    "get_checkpoint_file(\"./ckpt\")"
   ]
  },
  {
   "cell_type": "code",
   "execution_count": null,
   "metadata": {},
   "outputs": [],
   "source": [
    "get_checkpoint_file(\"./ckpt\")"
   ]
  },
  {
   "cell_type": "code",
   "execution_count": null,
   "metadata": {},
   "outputs": [],
   "source": [
    "import re\n",
    "ck_pattern =re.compile(r\"model\\.ckpt-\\d+\")\n",
    "ck_pattern.findall(get_checkpoint_file(\"./ckpt\"))"
   ]
  },
  {
   "cell_type": "code",
   "execution_count": null,
   "metadata": {},
   "outputs": [],
   "source": [
    "from subprocess import Popen, PIPE\n",
    "p = Popen(cmd, stdin=PIPE, stdout=PIPE, stderr=PIPE)\n",
    "output, err = p.communicate()\n",
    "rc = p.returncode"
   ]
  },
  {
   "cell_type": "code",
   "execution_count": null,
   "metadata": {},
   "outputs": [],
   "source": [
    "err"
   ]
  },
  {
   "cell_type": "code",
   "execution_count": 71,
   "metadata": {},
   "outputs": [
    {
     "data": {
      "text/plain": [
       "0"
      ]
     },
     "execution_count": 71,
     "metadata": {},
     "output_type": "execute_result"
    }
   ],
   "source": [
    "rc"
   ]
  },
  {
   "cell_type": "code",
   "execution_count": 72,
   "metadata": {},
   "outputs": [
    {
     "data": {
      "text/plain": [
       "b'data factory /home/renming.qi/flower_photos\\ndata factory validation\\ndata factory rcmp\\nrcmp_%s_*.tfrecord\\nvalidation\\n/home/renming.qi/flower_photos\\n'"
      ]
     },
     "execution_count": 72,
     "metadata": {},
     "output_type": "execute_result"
    }
   ],
   "source": [
    "output"
   ]
  },
  {
   "cell_type": "code",
   "execution_count": null,
   "metadata": {},
   "outputs": [],
   "source": []
  },
  {
   "cell_type": "code",
   "execution_count": null,
   "metadata": {},
   "outputs": [],
   "source": []
  }
 ],
 "metadata": {
  "kernelspec": {
   "display_name": "Python 2",
   "language": "python",
   "name": "python2"
  },
  "language_info": {
   "codemirror_mode": {
    "name": "ipython",
    "version": 2
   },
   "file_extension": ".py",
   "mimetype": "text/x-python",
   "name": "python",
   "nbconvert_exporter": "python",
   "pygments_lexer": "ipython2",
   "version": "2.7.14"
  }
 },
 "nbformat": 4,
 "nbformat_minor": 2
}
