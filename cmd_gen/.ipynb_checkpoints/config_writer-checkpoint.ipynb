{
 "cells": [
  {
   "cell_type": "code",
   "execution_count": null,
   "metadata": {},
   "outputs": [],
   "source": [
    "import json \n",
    "import os\n",
    "from gen_util import * \n"
   ]
  },
  {
   "cell_type": "code",
   "execution_count": null,
   "metadata": {},
   "outputs": [],
   "source": [
    "path_v2 = \"../models/pretrained/inception_resnet_v2/inception_resnet_v2_2016_08_30.ckpt\"\n",
    "path_v3 = \"../models/pretrained/inception_v3/inception_v3.ckpt\"\n",
    "path_mobile = \"../models/pretrained/mobilenet_v1/mobilenet_v1_1.0_224.ckpt\"\n",
    "DATASET_DIR=\"../data\"\n"
   ]
  },
  {
   "cell_type": "code",
   "execution_count": null,
   "metadata": {},
   "outputs": [],
   "source": [
    "DATASET_DIR=\"../data\"\n",
    "\n",
    "config_writer = Config_Writer(\"test_v2\")\n",
    "train_folder =\"test_v2\"\n",
    "ck_path , train_p, eval_p,csv_path_middle = path_gen(path_v2,train_folder=train_folder, csv_name_prefix =\"middle\")\n",
    "ck_path , train_p, eval_p,csv_path_final = path_gen(path_v2,train_folder=train_folder, csv_name_prefix = \"final\")\n",
    "\n",
    "config_gen = ConfigFactory()\n",
    "train_config = config_gen.gen_fn(\"train:inception_resnet_v2\")\n",
    "train_config = train_config(ck_path,DATASET_DIR,train_p)\n",
    "\n",
    "config_gen = ConfigFactory()\n",
    "eval_config = config_gen.gen_fn(\"eval:inception_resnet_v2\")\n",
    "eval_config = eval_config(train_p,DATASET_DIR,eval_p)\n",
    "\n",
    "evm,etm,evf,etf = gen_validation_and_train_eval(eval_config,csv_path_middle,csv_path_final)\n",
    "tfz, tuf = gen_forzen_and_unfrozen_train(train_config)\n",
    "task_seq = [tfz,evm,etm,tuf,evf,etf]\n",
    "task_describe = {\"task_name\":\"test_mobile\",\"task_seq\":task_seq}\n",
    "\n",
    "config_writer = Config_Writer(\"./test_v2\")\n",
    "config_writer.write(\"inception_resnet_v2.json\",task_describe)\n",
    "runner = SeqRunner(task_dict=task_describe)\n",
    "runner.run()"
   ]
  },
  {
   "cell_type": "code",
   "execution_count": null,
   "metadata": {
    "scrolled": true
   },
   "outputs": [],
   "source": []
  },
  {
   "cell_type": "code",
   "execution_count": null,
   "metadata": {},
   "outputs": [],
   "source": [
    "DATASET_DIR=\"../data\"\n",
    "\n",
    "config_writer = Config_Writer(\"test_v3\")\n",
    "train_folder =\"test_v3\"\n",
    "ck_path , train_p, eval_p,csv_path_middle = path_gen(path_v3,train_folder=train_folder, csv_name_prefix =\"middle\")\n",
    "ck_path , train_p, eval_p,csv_path_final = path_gen(path_v3,train_folder=train_folder, csv_name_prefix = \"final\")\n",
    "\n",
    "config_gen = ConfigFactory()\n",
    "train_config = config_gen.gen_fn(\"train:inception_v3\")\n",
    "train_config = train_config(ck_path,DATASET_DIR,train_p)\n",
    "\n",
    "config_gen = ConfigFactory()\n",
    "eval_config = config_gen.gen_fn(\"eval:inception_v3\")\n",
    "eval_config = eval_config(train_p,DATASET_DIR,eval_p)\n",
    "\n",
    "evm,etm,evf,etf = gen_validation_and_train_eval(eval_config,csv_path_middle,csv_path_final)\n",
    "tfz, tuf = gen_forzen_and_unfrozen_train(train_config)\n",
    "task_seq = [tfz,evm,etm,tuf,evf,etf]\n",
    "task_describe = {\"task_name\":\"test_mobile\",\"task_seq\":task_seq}\n",
    "\n",
    "\n",
    "config_writer = Config_Writer(\"./test_v3\")\n",
    "config_writer.write(\"inception_v3.json\",task_describe)\n",
    "runner = SeqRunner(task_dict=task_describe)\n",
    "runner.run()"
   ]
  },
  {
   "cell_type": "code",
   "execution_count": null,
   "metadata": {},
   "outputs": [],
   "source": [
    "DATASET_DIR=\"../data\"\n",
    "\n",
    "config_writer = Config_Writer(\"test_mob_v1\")\n",
    "train_folder =\"test_mob_v1\"\n",
    "ck_path , train_p, eval_p,csv_path_middle = path_gen(path_mobile,train_folder=train_folder, csv_name_prefix =\"middle\")\n",
    "ck_path , train_p, eval_p,csv_path_final = path_gen(path_mobile,train_folder=train_folder, csv_name_prefix = \"final\")\n",
    "\n",
    "config_gen = ConfigFactory()\n",
    "train_config = config_gen.gen_fn(\"train:mobile_net_v1\")\n",
    "train_config = train_config(ck_path,DATASET_DIR,train_p)\n",
    "\n",
    "config_gen = ConfigFactory()\n",
    "eval_config = config_gen.gen_fn(\"eval:mobile_net_v1\")\n",
    "eval_config = eval_config(train_p,DATASET_DIR,eval_p)\n",
    "\n",
    "evm,etm,evf,etf = gen_validation_and_train_eval(eval_config,csv_path_middle,csv_path_final)\n",
    "tfz, tuf = gen_forzen_and_unfrozen_train(train_config)\n",
    "task_seq = [tfz,evm,etm,tuf,evf,etf]\n",
    "task_describe = {\"task_name\":\"test_mobile\",\"task_seq\":task_seq}\n",
    "\n",
    "\n",
    "config_writer = Config_Writer(\"./test_mobile\")\n",
    "config_writer.write(\"mobile.json\",task_describe)\n",
    "runner = SeqRunner(task_dict=task_describe)\n",
    "runner.run()"
   ]
  },
  {
   "cell_type": "code",
   "execution_count": null,
   "metadata": {},
   "outputs": [],
   "source": []
  },
  {
   "cell_type": "code",
   "execution_count": null,
   "metadata": {},
   "outputs": [],
   "source": []
  }
 ],
 "metadata": {
  "kernelspec": {
   "display_name": "Python 2",
   "language": "python",
   "name": "python2"
  },
  "language_info": {
   "codemirror_mode": {
    "name": "ipython",
    "version": 2
   },
   "file_extension": ".py",
   "mimetype": "text/x-python",
   "name": "python",
   "nbconvert_exporter": "python",
   "pygments_lexer": "ipython2",
   "version": "2.7.14"
  }
 },
 "nbformat": 4,
 "nbformat_minor": 2
}
