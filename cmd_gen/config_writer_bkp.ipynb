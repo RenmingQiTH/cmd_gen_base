{
 "cells": [
  {
   "cell_type": "code",
   "execution_count": 1,
   "metadata": {},
   "outputs": [],
   "source": [
    "import json \n",
    "import os\n",
    "from gen_util import * \n"
   ]
  },
  {
   "cell_type": "code",
   "execution_count": 2,
   "metadata": {},
   "outputs": [],
   "source": [
    "class Config_Writer:\n",
    "    def __init__(self,folder):\n",
    "        self.folder = folder \n",
    "    def write(self,file_name,config_dict):\n",
    "        path = os.path.join(self.folder,file_name)\n",
    "        if not os.path.exists(self.folder):\n",
    "            os.makedirs(self.folder)\n",
    "        with open(os.path.join(self.folder,file_name),\"w\") as f:\n",
    "            json.dump(config_dict,f)"
   ]
  },
  {
   "cell_type": "code",
   "execution_count": 3,
   "metadata": {},
   "outputs": [],
   "source": [
    "path_v2 = \"/home/renming.qi/models/pretrained/inception_resnet_v2/inception_resnet_v2_2016_08_30.ckpt\"\n",
    "path_v3 = \"/home/renming.qi/models/pretrained/inception_v3/inception_v3.ckpt\"\n",
    "path_mobile = \"/home/renming.qi/models/pretrained/mobilenet_v1/mobilenet_v1_1.0_224.ckpt\"\n"
   ]
  },
  {
   "cell_type": "code",
   "execution_count": 4,
   "metadata": {},
   "outputs": [],
   "source": [
    "import copy\n",
    "def gen_validation_and_train_eval(eval_config,csv_path_middle,csv_path_final):\n",
    "    eval_config['labels_offset']=\"0\"\n",
    "    eval_config_val_middle = copy.deepcopy(eval_config)\n",
    "    eval_config_val_final = copy.deepcopy(eval_config)\n",
    "    eval_config_train_middle = copy.deepcopy(eval_config)\n",
    "    eval_config_train_final = copy.deepcopy(eval_config)\n",
    "    eval_config_val_middle['dataset_split_name'] = \"validation\"\n",
    "    eval_config_val_middle['csv_name'] = csv_path_middle + \"_val.csv\"\n",
    "    eval_config_val_final['dataset_split_name'] = \"validation\"\n",
    "    eval_config_val_final['csv_name'] = csv_path_final + \"_val.csv\"\n",
    "    eval_config_train_middle['dataset_split_name']=\"train\"\n",
    "    eval_config_train_middle['csv_name'] = csv_path_middle + \"_train.csv\"\n",
    "    eval_config_train_final['dataset_split_name']=\"train\"\n",
    "    eval_config_train_final['csv_name'] = csv_path_final + \"_train.csv\"\n",
    "    return eval_config_val_middle,eval_config_train_middle,eval_config_val_final,eval_config_train_final\n",
    "def gen_forzen_and_unfrozen_train(train_config):\n",
    "    train_config[\"labels_offset\"]=\"0\"\n",
    "    \n",
    "    train_config_frozen = copy.deepcopy(train_config)\n",
    "    train_config_frozen[\"max_number_of_steps\"] = str(50)\n",
    "    train_config_unfrozen = copy.deepcopy(train_config)\n",
    "    train_config_unfrozen['checkpoint_path'] = train_config_frozen['train_dir']\n",
    "    train_config_unfrozen[\"learning_rate\"]=\"0.0001\"\n",
    "    train_config_unfrozen[\"max_number_of_steps\"] = str(50)\n",
    "    return train_config_frozen, train_config_unfrozen"
   ]
  },
  {
   "cell_type": "code",
   "execution_count": 5,
   "metadata": {},
   "outputs": [],
   "source": [
    "DATASET_DIR=\"/home/renming.qi/flower_photos\"\n",
    "\n",
    "config_writer = Config_Writer(\"test_v2\")\n",
    "train_folder =\"test_v2\"\n",
    "ck_path , train_p, eval_p,csv_path_middle = path_gen(path_v2,train_folder=train_folder, csv_name_prefix =\"middle\")\n",
    "ck_path , train_p, eval_p,csv_path_final = path_gen(path_v2,train_folder=train_folder, csv_name_prefix = \"final\")\n",
    "\n",
    "config_gen = ConfigFactory()\n",
    "train_config = config_gen.gen_fn(\"train:inception_resnet_v2\")\n",
    "train_config = train_config(ck_path,DATASET_DIR,train_p)\n",
    "\n",
    "config_gen = ConfigFactory()\n",
    "eval_config = config_gen.gen_fn(\"eval:inception_resnet_v2\")\n",
    "eval_config = eval_config(train_p,DATASET_DIR,eval_p)\n",
    "\n",
    "evm,etm,evf,etf = gen_validation_and_train_eval(eval_config,csv_path_middle,csv_path_final)\n",
    "tfz, tuf = gen_forzen_and_unfrozen_train(train_config)\n",
    "task_seq = [tfz,evm,etm,tuf,evf,etf]\n",
    "task_describe = {\"task_name\":\"test_mobile\",\"task_seq\":task_seq}\n",
    "\n",
    "config_writer = Config_Writer(\"./test_v2\")\n",
    "config_writer.write(\"inception_resnet_v2.json\",task_describe)"
   ]
  },
  {
   "cell_type": "code",
   "execution_count": 6,
   "metadata": {
    "scrolled": true
   },
   "outputs": [
    {
     "name": "stdout",
     "output_type": "stream",
     "text": [
      "_______________\n",
      "{'max_number_of_steps': '50', 'trainable_scopes': 'InceptionResnetV2/Logits,InceptionResnetV2/AuxLogits', 'learning_rate_decay_type': 'fixed', 'optimizer': 'rmsprop', 'checkpoint_exclude_scopes': 'InceptionResnetV2/Logits,InceptionResnetV2/AuxLogits', 'dataset_split_name': 'train', 'save_summaries_secs': '60', 'learning_rate': '0.01', 'train_dir': './test_v2', 'batch_size': '32', 'method': 'train', 'labels_offset': '0', 'preprocessing_name': 'inception', 'dataset_dir': '/home/renming.qi/flower_photos', 'save_interval_secs': '600', 'weight_decay': '0.00004', 'model_name': 'inception_resnet_v2', 'dataset_name': 'rcmp'}\n",
      "_______________\n",
      "_______________\n",
      "{'checkpoint_path': './test_v2', 'eval_dir': './test_v2', 'dataset_split_name': 'validation', 'csv_name': './test_v2/middle_val.csv', 'model_name': 'inception_resnet_v2', 'labels_offset': '0', 'dataset_dir': '/home/renming.qi/flower_photos', 'method': 'eval', 'dataset_name': 'rcmp'}\n",
      "_______________\n",
      "_______________\n",
      "{'checkpoint_path': './test_v2', 'eval_dir': './test_v2', 'dataset_split_name': 'train', 'csv_name': './test_v2/middle_train.csv', 'model_name': 'inception_resnet_v2', 'labels_offset': '0', 'dataset_dir': '/home/renming.qi/flower_photos', 'method': 'eval', 'dataset_name': 'rcmp'}\n",
      "_______________\n",
      "_______________\n",
      "{'max_number_of_steps': '50', 'trainable_scopes': 'InceptionResnetV2/Logits,InceptionResnetV2/AuxLogits', 'learning_rate_decay_type': 'fixed', 'optimizer': 'rmsprop', 'checkpoint_exclude_scopes': 'InceptionResnetV2/Logits,InceptionResnetV2/AuxLogits', 'dataset_split_name': 'train', 'save_summaries_secs': '60', 'learning_rate': '0.0001', 'train_dir': './test_v2', 'batch_size': '32', 'method': 'train', 'checkpoint_path': './test_v2', 'labels_offset': '0', 'preprocessing_name': 'inception', 'dataset_dir': '/home/renming.qi/flower_photos', 'save_interval_secs': '600', 'weight_decay': '0.00004', 'model_name': 'inception_resnet_v2', 'dataset_name': 'rcmp'}\n",
      "_______________\n",
      "_______________\n",
      "{'checkpoint_path': './test_v2', 'eval_dir': './test_v2', 'dataset_split_name': 'validation', 'csv_name': './test_v2/final_val.csv', 'model_name': 'inception_resnet_v2', 'labels_offset': '0', 'dataset_dir': '/home/renming.qi/flower_photos', 'method': 'eval', 'dataset_name': 'rcmp'}\n",
      "_______________\n",
      "_______________\n",
      "{'checkpoint_path': './test_v2', 'eval_dir': './test_v2', 'dataset_split_name': 'train', 'csv_name': './test_v2/final_train.csv', 'model_name': 'inception_resnet_v2', 'labels_offset': '0', 'dataset_dir': '/home/renming.qi/flower_photos', 'method': 'eval', 'dataset_name': 'rcmp'}\n",
      "_______________\n",
      "./useless_test_v2\n",
      "[]\n"
     ]
    }
   ],
   "source": [
    "runner = SeqRunner(task_dict=task_describe)\n",
    "runner.run()"
   ]
  },
  {
   "cell_type": "code",
   "execution_count": null,
   "metadata": {},
   "outputs": [],
   "source": [
    "DATASET_DIR=\"/home/renming.qi/flower_photos\"\n",
    "\n",
    "config_writer = Config_Writer(\"test_v3\")\n",
    "train_folder =\"test_v3\"\n",
    "ck_path , train_p, eval_p,csv_path_middle = path_gen(path_v3,train_folder=train_folder, csv_name_prefix =\"middle\")\n",
    "ck_path , train_p, eval_p,csv_path_final = path_gen(path_v3,train_folder=train_folder, csv_name_prefix = \"final\")\n",
    "\n",
    "config_gen = ConfigFactory()\n",
    "train_config = config_gen.gen_fn(\"train:inception_v3\")\n",
    "train_config = train_config(ck_path,DATASET_DIR,train_p)\n",
    "\n",
    "config_gen = ConfigFactory()\n",
    "eval_config = config_gen.gen_fn(\"eval:inception_v3\")\n",
    "eval_config = eval_config(train_p,DATASET_DIR,eval_p)\n",
    "\n",
    "evm,etm,evf,etf = gen_validation_and_train_eval(eval_config,csv_path_middle,csv_path_final)\n",
    "tfz, tuf = gen_forzen_and_unfrozen_train(train_config)\n",
    "task_seq = [tfz,evm,etm,tuf,evf,etf]\n",
    "task_describe = {\"task_name\":\"test_mobile\",\"task_seq\":task_seq}\n",
    "\n",
    "\n",
    "config_writer = Config_Writer(\"./test_v3\")\n",
    "config_writer.write(\"inception_v3.json\",task_describe)\n",
    "runner = SeqRunner(task_dict=task_describe)\n",
    "runner.run()"
   ]
  },
  {
   "cell_type": "code",
   "execution_count": null,
   "metadata": {},
   "outputs": [],
   "source": [
    "DATASET_DIR=\"/home/renming.qi/flower_photos\"\n",
    "\n",
    "config_writer = Config_Writer(\"test_mob_v1\")\n",
    "train_folder =\"test_mob_v1\"\n",
    "ck_path , train_p, eval_p,csv_path_middle = path_gen(path_mobile,train_folder=train_folder, csv_name_prefix =\"middle\")\n",
    "ck_path , train_p, eval_p,csv_path_final = path_gen(path_mobile,train_folder=train_folder, csv_name_prefix = \"final\")\n",
    "\n",
    "config_gen = ConfigFactory()\n",
    "train_config = config_gen.gen_fn(\"train:mobile_net_v1\")\n",
    "train_config = train_config(ck_path,DATASET_DIR,train_p)\n",
    "\n",
    "config_gen = ConfigFactory()\n",
    "eval_config = config_gen.gen_fn(\"eval:mobile_net_v1\")\n",
    "eval_config = eval_config(train_p,DATASET_DIR,eval_p)\n",
    "\n",
    "evm,etm,evf,etf = gen_validation_and_train_eval(eval_config,csv_path_middle,csv_path_final)\n",
    "tfz, tuf = gen_forzen_and_unfrozen_train(train_config)\n",
    "task_seq = [tfz,evm,etm,tuf,evf,etf]\n",
    "task_describe = {\"task_name\":\"test_mobile\",\"task_seq\":task_seq}\n",
    "\n",
    "\n",
    "config_writer = Config_Writer(\"./test_mobile\")\n",
    "config_writer.write(\"mobile.json\",task_describe)\n",
    "runner = SeqRunner(task_dict=task_describe)\n",
    "runner.run()"
   ]
  },
  {
   "cell_type": "code",
   "execution_count": null,
   "metadata": {},
   "outputs": [],
   "source": []
  },
  {
   "cell_type": "code",
   "execution_count": null,
   "metadata": {},
   "outputs": [],
   "source": []
  }
 ],
 "metadata": {
  "kernelspec": {
   "display_name": "Python 2",
   "language": "python",
   "name": "python2"
  },
  "language_info": {
   "codemirror_mode": {
    "name": "ipython",
    "version": 2
   },
   "file_extension": ".py",
   "mimetype": "text/x-python",
   "name": "python",
   "nbconvert_exporter": "python",
   "pygments_lexer": "ipython2",
   "version": "2.7.14"
  }
 },
 "nbformat": 4,
 "nbformat_minor": 2
}
