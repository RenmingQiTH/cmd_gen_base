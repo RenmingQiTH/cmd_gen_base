{
 "cells": [
  {
   "cell_type": "code",
   "execution_count": null,
   "metadata": {
    "scrolled": true
   },
   "outputs": [],
   "source": [
    "from __future__ import absolute_import\n",
    "from __future__ import division\n",
    "from __future__ import print_function\n",
    "\n",
    "import tensorflow as tf\n",
    "\n",
    "from datasets import dataset_factory\n",
    "from deployment import model_deploy\n",
    "from nets import nets_factory\n",
    "from preprocessing import preprocessing_factory\n",
    "slim = tf.contrib.slim"
   ]
  },
  {
   "cell_type": "code",
   "execution_count": null,
   "metadata": {
    "scrolled": true
   },
   "outputs": [],
   "source": [
    "#define constants\n",
    "class Flags:\n",
    "    def __init__(self):\n",
    "        pass\n",
    "\n",
    "flags = Flags()\n",
    "flags.dataset_name= \"rcmp\" \n",
    "flags.dataset_split_name = 'validation'\n",
    "flags.dataset_dir = \"/home/renming.qi/flower_photos/\"\n",
    "flags.model_path = \"/home/renming.qi/models/pretrained/inception_resnet_v2.ckpt\"\n",
    "flags.batch_size = 5\n",
    "flags.filename = [\"/home/renming.qi/flower_photos/rcmp_train_00000-of-00002.tfrecord\",\n",
    "                  \"/home/renming.qi/flower_photos/rcmp_train_00001-of-00002.tfrecord\"]\n",
    "flags.checkpoint_exclude_scopes= 'InceptionResnetV2/Logits,InceptionResnetV2/AuxLogits'\n",
    "flags.model_name  =  \"inception_resnet_v2\"\n"
   ]
  },
  {
   "cell_type": "code",
   "execution_count": null,
   "metadata": {
    "scrolled": true
   },
   "outputs": [],
   "source": [
    "def get_rcmp_decoder():\n",
    "    \"\"\"\n",
    "    TODO: Fix this\n",
    "    the tfexample encoding and decoing are wrong but will not affect the result.\n",
    "    \n",
    "    \"\"\"\n",
    "    keys_to_features = {\n",
    "      'image/encoded': tf.FixedLenFeature((), tf.string, default_value=''),\n",
    "      'image/format': tf.FixedLenFeature((), tf.string, default_value='jpg'),\n",
    "      'image/class/label': tf.FixedLenFeature(\n",
    "          [], tf.int64, default_value=tf.zeros([], dtype=tf.int64)),\n",
    "      'image/filename': tf.FixedLenFeature(\n",
    "          [], tf.int64, default_value=tf.zeros([], dtype=tf.int64)),\n",
    "    }\n",
    "\n",
    "    #Create the items_to_handlers dictionary for the decoder.\n",
    "    items_to_handlers = {\n",
    "    'image': slim.tfexample_decoder.Image(),\n",
    "    'label': slim.tfexample_decoder.Tensor('image/class/label'),\n",
    "    'name' : slim.tfexample_decoder.Tensor('image/filename')\n",
    "    }\n",
    "\n",
    "    #Start to create the decoder\n",
    "    decoder = slim.tfexample_decoder.TFExampleDecoder(keys_to_features, items_to_handlers)\n",
    "    return decoder \n",
    "\n",
    "\n"
   ]
  },
  {
   "cell_type": "code",
   "execution_count": null,
   "metadata": {
    "scrolled": true
   },
   "outputs": [],
   "source": [
    "#create dataset \n",
    "tf_dataset = tf.data.TFRecordDataset([\"/home/renming.qi/flower_photos/rcmp_train_00000-of-00002.tfrecord\",\"/home/renming.qi/flower_photos/rcmp_train_00001-of-00002.tfrecord\"])\n",
    "decoder = get_rcmp_decoder()\n",
    "#dataset transformation \n",
    "\"\"\"\n",
    "FIX ME : More preprocessing is needed for training. \n",
    "Here I only used resize_image, for general traning purposes, we need to use preprocess_image() in ../slim/preprocessing\n",
    "\"\"\"\n",
    "\n",
    "#https://www.tensorflow.org/api_guides/python/reading_data#_tf_data_API\n",
    "dataset = tf_dataset.map(lambda x : decoder.decode(x)).map(lambda x,y,z: (tf.image.resize_images(x,[299,299]),y,z))\n",
    "batched_dataset = dataset.batch(flags.batch_size)\n",
    "iterator = batched_dataset.make_one_shot_iterator()\n",
    "next_element = iterator.get_next()\n",
    "batched_images, batched_labels, _ =  next_element "
   ]
  },
  {
   "cell_type": "code",
   "execution_count": null,
   "metadata": {
    "scrolled": true
   },
   "outputs": [],
   "source": [
    "# test dataset transformation \n",
    "# with tf.Session() as sess:\n",
    "#     while True:\n",
    "#         try:\n",
    "#             print(sess.run(batched_labels))\n",
    "#         except tf.errors.OutOfRangeError:\n",
    "#             break"
   ]
  },
  {
   "cell_type": "code",
   "execution_count": null,
   "metadata": {
    "scrolled": true
   },
   "outputs": [],
   "source": [
    "# get_network_name \n",
    "network_fn = nets_factory.get_network_fn(\n",
    "        flags.model_name,\n",
    "        num_classes= 2 ,\n",
    "        is_training=True)"
   ]
  },
  {
   "cell_type": "code",
   "execution_count": null,
   "metadata": {
    "scrolled": true
   },
   "outputs": [],
   "source": [
    "# end_points_first save some useful information. \n",
    "logits_first, end_points_first = network_fn(batched_images)\n",
    "print(end_points_first)"
   ]
  },
  {
   "cell_type": "code",
   "execution_count": null,
   "metadata": {
    "scrolled": false
   },
   "outputs": [],
   "source": [
    " #print(slim.get_model_variables())\n"
   ]
  },
  {
   "cell_type": "code",
   "execution_count": null,
   "metadata": {
    "scrolled": true
   },
   "outputs": [],
   "source": [
    "# with tf.Session() as sess:\n",
    "#     iterator = tfdataset.make_one_shot_iterator()\n",
    "#     next_element = iterator.get_next()\n",
    "#     for i in range(1):\n",
    "#         val =  sess.run(next_element)\n",
    "#         print(val)"
   ]
  },
  {
   "cell_type": "code",
   "execution_count": null,
   "metadata": {
    "scrolled": true
   },
   "outputs": [],
   "source": [
    "exclusions = [scope.strip() for scope in flags.checkpoint_exclude_scopes.split(\",\")]\n",
    "print(exclusions)"
   ]
  },
  {
   "cell_type": "code",
   "execution_count": null,
   "metadata": {
    "scrolled": true
   },
   "outputs": [],
   "source": [
    "# this function is defined for training \n",
    "def get_variables_to_restore(exclusions):\n",
    "    variables_to_restore = []\n",
    "    exclusions = [scope.strip() for scope in exclusions.split(\",\")]\n",
    "    # Note I directly use slim.get_model_variables() since there is a \"defaut\" graph. \n",
    "    for var in slim.get_model_variables():\n",
    "        for exclusion in exclusions:\n",
    "            excluded = False\n",
    "            if var.op.name.startswith(exclusion):\n",
    "                excluded = True\n",
    "                break\n",
    "        if (not excluded) :\n",
    "            variables_to_restore.append(var)\n",
    "    return variables_to_restore\n",
    "\n"
   ]
  },
  {
   "cell_type": "code",
   "execution_count": null,
   "metadata": {
    "scrolled": true
   },
   "outputs": [],
   "source": [
    "variables_to_restore= get_variables_to_restore(flags.checkpoint_exclude_scopes)\n"
   ]
  },
  {
   "cell_type": "code",
   "execution_count": null,
   "metadata": {
    "scrolled": false
   },
   "outputs": [],
   "source": [
    "#print(variables_to_restore)"
   ]
  },
  {
   "cell_type": "code",
   "execution_count": 37,
   "metadata": {
    "scrolled": true
   },
   "outputs": [
    {
     "name": "stdout",
     "output_type": "stream",
     "text": [
      "[array([[0.55972207, 0.4402779 ],\n",
      "       [0.69447124, 0.3055287 ],\n",
      "       [0.76159894, 0.23840107],\n",
      "       [0.41936985, 0.5806301 ],\n",
      "       [0.42964494, 0.57035506]], dtype=float32)]\n",
      "[array([[0.47212145, 0.5278786 ],\n",
      "       [0.2582617 , 0.74173826],\n",
      "       [0.5440496 , 0.45595038],\n",
      "       [0.545987  , 0.45401296],\n",
      "       [0.6552902 , 0.34470987]], dtype=float32)]\n",
      "[array([[0.37018743, 0.62981254],\n",
      "       [0.45664197, 0.543358  ],\n",
      "       [0.2894791 , 0.7105209 ],\n",
      "       [0.6031313 , 0.39686874],\n",
      "       [0.8558101 , 0.14418985]], dtype=float32)]\n",
      "[array([[0.41880473, 0.5811953 ],\n",
      "       [0.43912914, 0.5608708 ],\n",
      "       [0.54464906, 0.45535085],\n",
      "       [0.6450948 , 0.35490513],\n",
      "       [0.2275411 , 0.7724589 ]], dtype=float32)]\n",
      "[array([[0.65898025, 0.3410197 ],\n",
      "       [0.68922657, 0.31077346],\n",
      "       [0.51147443, 0.48852563],\n",
      "       [0.42124316, 0.5787568 ],\n",
      "       [0.50224286, 0.49775714]], dtype=float32)]\n",
      "[array([[0.43685976, 0.5631402 ],\n",
      "       [0.4568056 , 0.5431944 ],\n",
      "       [0.5127771 , 0.48722285],\n",
      "       [0.499884  , 0.500116  ],\n",
      "       [0.522825  , 0.47717497]], dtype=float32)]\n",
      "[array([[0.4970414 , 0.5029586 ],\n",
      "       [0.47460967, 0.5253903 ],\n",
      "       [0.7246316 , 0.27536833],\n",
      "       [0.49817786, 0.5018221 ],\n",
      "       [0.3400446 , 0.6599554 ]], dtype=float32)]\n",
      "[array([[0.7908454 , 0.20915459],\n",
      "       [0.61536306, 0.38463703],\n",
      "       [0.36169577, 0.63830423],\n",
      "       [0.4928499 , 0.5071501 ],\n",
      "       [0.35605937, 0.6439406 ]], dtype=float32)]\n",
      "[array([[0.5317865 , 0.46821344],\n",
      "       [0.7218334 , 0.2781666 ],\n",
      "       [0.48041847, 0.5195815 ],\n",
      "       [0.5426936 , 0.45730644],\n",
      "       [0.27646598, 0.72353405]], dtype=float32)]\n",
      "[array([[0.4084584 , 0.5915415 ],\n",
      "       [0.6493632 , 0.35063672],\n",
      "       [0.80853105, 0.19146895],\n",
      "       [0.5672289 , 0.43277103],\n",
      "       [0.46005225, 0.53994775]], dtype=float32)]\n",
      "[array([[0.5595971 , 0.44040293],\n",
      "       [0.34049362, 0.6595064 ],\n",
      "       [0.3905023 , 0.60949767],\n",
      "       [0.33843583, 0.6615642 ],\n",
      "       [0.5149999 , 0.48500004]], dtype=float32)]\n",
      "[array([[0.69091994, 0.30908003],\n",
      "       [0.33991623, 0.6600838 ],\n",
      "       [0.6143285 , 0.3856715 ],\n",
      "       [0.3825625 , 0.61743754],\n",
      "       [0.435452  , 0.56454796]], dtype=float32)]\n",
      "[array([[0.29550853, 0.70449144],\n",
      "       [0.5456631 , 0.45433682],\n",
      "       [0.4128088 , 0.58719116],\n",
      "       [0.6167929 , 0.38320714],\n",
      "       [0.5869127 , 0.41308728]], dtype=float32)]\n",
      "[array([[0.66170615, 0.33829382],\n",
      "       [0.33670062, 0.6632994 ],\n",
      "       [0.47049645, 0.5295035 ],\n",
      "       [0.64862114, 0.3513789 ],\n",
      "       [0.34644675, 0.65355325]], dtype=float32)]\n",
      "[array([[0.3222419 , 0.6777581 ],\n",
      "       [0.4619504 , 0.53804964],\n",
      "       [0.48508498, 0.514915  ],\n",
      "       [0.66943187, 0.3305681 ],\n",
      "       [0.55522037, 0.4447796 ]], dtype=float32)]\n",
      "[array([[0.64093107, 0.3590689 ],\n",
      "       [0.3860541 , 0.6139459 ],\n",
      "       [0.62903214, 0.37096792],\n",
      "       [0.23003148, 0.7699685 ],\n",
      "       [0.666444  , 0.33355597]], dtype=float32)]\n",
      "[array([[0.56842166, 0.43157837],\n",
      "       [0.3664988 , 0.6335011 ],\n",
      "       [0.41513902, 0.58486104],\n",
      "       [0.40869594, 0.5913041 ],\n",
      "       [0.60067254, 0.39932743]], dtype=float32)]\n",
      "[array([[0.8301632 , 0.1698368 ],\n",
      "       [0.6007749 , 0.3992251 ],\n",
      "       [0.18920884, 0.8107912 ],\n",
      "       [0.53944564, 0.4605544 ],\n",
      "       [0.5787807 , 0.42121932]], dtype=float32)]\n",
      "[array([[0.26590526, 0.73409474],\n",
      "       [0.33538792, 0.6646121 ],\n",
      "       [0.42528883, 0.5747112 ],\n",
      "       [0.4081682 , 0.59183186],\n",
      "       [0.5520722 , 0.4479278 ]], dtype=float32)]\n",
      "[array([[0.45046473, 0.5495353 ],\n",
      "       [0.7547753 , 0.24522468],\n",
      "       [0.6195264 , 0.38047364],\n",
      "       [0.3929829 , 0.60701716],\n",
      "       [0.57483935, 0.42516062]], dtype=float32)]\n",
      "[array([[0.535619  , 0.464381  ],\n",
      "       [0.78020805, 0.21979196],\n",
      "       [0.24576573, 0.7542342 ],\n",
      "       [0.53335655, 0.46664345],\n",
      "       [0.4063892 , 0.59361076]], dtype=float32)]\n",
      "[array([[0.44887036, 0.5511296 ],\n",
      "       [0.39051935, 0.6094806 ],\n",
      "       [0.3759344 , 0.62406564],\n",
      "       [0.6458426 , 0.35415736],\n",
      "       [0.3472891 , 0.6527109 ]], dtype=float32)]\n",
      "[array([[0.68778723, 0.31221274],\n",
      "       [0.70875543, 0.2912446 ],\n",
      "       [0.5170644 , 0.48293555],\n",
      "       [0.4310309 , 0.5689691 ],\n",
      "       [0.4226115 , 0.57738847]], dtype=float32)]\n",
      "[array([[0.47654462, 0.5234554 ],\n",
      "       [0.6519379 , 0.34806213],\n",
      "       [0.32366216, 0.67633784],\n",
      "       [0.5176706 , 0.4823295 ],\n",
      "       [0.39426297, 0.6057371 ]], dtype=float32)]\n",
      "[array([[0.43695307, 0.5630469 ],\n",
      "       [0.71196103, 0.28803903],\n",
      "       [0.45562536, 0.5443746 ],\n",
      "       [0.3013227 , 0.69867736],\n",
      "       [0.43089876, 0.5691012 ]], dtype=float32)]\n",
      "[array([[0.64237905, 0.3576209 ],\n",
      "       [0.39661443, 0.60338557],\n",
      "       [0.42173195, 0.57826805],\n",
      "       [0.5324222 , 0.46757773],\n",
      "       [0.24733457, 0.7526654 ]], dtype=float32)]\n",
      "[array([[0.6856873 , 0.31431273],\n",
      "       [0.18575218, 0.8142478 ],\n",
      "       [0.1237305 , 0.87626946],\n",
      "       [0.5010007 , 0.4989994 ],\n",
      "       [0.47485387, 0.52514607]], dtype=float32)]\n",
      "[array([[0.5408377 , 0.45916227],\n",
      "       [0.3228923 , 0.6771077 ],\n",
      "       [0.31991687, 0.68008316],\n",
      "       [0.51259893, 0.48740107]], dtype=float32)]\n"
     ]
    }
   ],
   "source": [
    "with tf.Session() as sess:\n",
    "    restorer = tf.train.Saver(variables_to_restore)\n",
    "    tf.global_variables_initializer().run()\n",
    "    while True:\n",
    "        try:\n",
    "            sess.run(next_element)\n",
    "            # p1 is the vector of predictions for every class. There are two classes. Also note that batch_size = 5 , so it's a 5 x 2 array. \n",
    "            p1 = sess.run([ end_points_first['Predictions']])\n",
    "            print(p1)\n",
    "        except tf.errors.OutOfRangeError:\n",
    "            break\n",
    "            \n"
   ]
  },
  {
   "cell_type": "code",
   "execution_count": 49,
   "metadata": {},
   "outputs": [],
   "source": [
    "#In jupyternotebook ,we must clean old graph to enable new graph. Otherwise, there will be variables with the same name, causing errors. \n",
    "tf.reset_default_graph()\n"
   ]
  },
  {
   "cell_type": "code",
   "execution_count": 50,
   "metadata": {
    "scrolled": true
   },
   "outputs": [
    {
     "name": "stdout",
     "output_type": "stream",
     "text": [
      "INFO:tensorflow:Scale of 0 disables regularizer.\n",
      "INFO:tensorflow:Scale of 0 disables regularizer.\n"
     ]
    }
   ],
   "source": [
    "# Train \n",
    "tf_dataset = tf.data.TFRecordDataset([\"/home/renming.qi/flower_photos/rcmp_train_00000-of-00002.tfrecord\",\"/home/renming.qi/flower_photos/rcmp_train_00001-of-00002.tfrecord\"])\n",
    "\n",
    "decoder = get_rcmp_decoder()\n",
    "#dataset transformation \n",
    "\"\"\"\n",
    "FIX ME : More preprocessing is needed for training. \n",
    "Here I only used resize_image, for general traning purposes, we need to use preprocess_image() in ../slim/preprocessing\n",
    "\"\"\"\n",
    "\n",
    "#https://www.tensorflow.org/api_guides/python/reading_data#_tf_data_API\n",
    "dataset = tf_dataset.map(lambda x : decoder.decode(x)).map(lambda x,y,z: (tf.image.resize_images(x,[299,299]),y,z))\n",
    "\"\"\"\n",
    "To train for 10 epochs, we repeat the dataset 10 times. \n",
    "This is different from the traditional method !! \n",
    "\"\"\"\n",
    "dataset = dataset.repeat(10)\n",
    "\n",
    "batched_dataset = dataset.batch(flags.batch_size)\n",
    "iterator = batched_dataset.make_one_shot_iterator()\n",
    "next_element = iterator.get_next()\n",
    "batched_images, batched_labels, _ =  next_element \n",
    "one_hot_batched_labels = slim.one_hot_encoding(batched_labels, 2)\n",
    "\n",
    "network_fn = nets_factory.get_network_fn(\n",
    "        flags.model_name,\n",
    "        num_classes= 2 ,\n",
    "        is_training=True)\n",
    "logits_first, end_points_first = network_fn(batched_images)\n",
    "\n",
    "tf.losses.softmax_cross_entropy(logits = logits_first, onehot_labels=one_hot_batched_labels)\n",
    "learning_rate = 0.01\n",
    "optimizer = tf.train.GradientDescentOptimizer(learning_rate)\n",
    "total_loss = tf.losses.get_total_loss()\n",
    "train_op = tf.contrib.training.create_train_op(total_loss,optimizer,variables_to_train= tf.trainable_variables())"
   ]
  },
  {
   "cell_type": "code",
   "execution_count": 51,
   "metadata": {
    "scrolled": true
   },
   "outputs": [
    {
     "name": "stdout",
     "output_type": "stream",
     "text": [
      "Tensor(\"train_op/control_dependency:0\", shape=(), dtype=float32)\n"
     ]
    }
   ],
   "source": [
    "print(train_op)"
   ]
  },
  {
   "cell_type": "code",
   "execution_count": 58,
   "metadata": {},
   "outputs": [
    {
     "name": "stdout",
     "output_type": "stream",
     "text": [
      "0.939356\n",
      "10\n",
      "Model saved in file: ./ckpt/test-model.ckpt-10\n",
      "0.72295713\n",
      "10\n",
      "Model saved in file: ./ckpt/test-model.ckpt-10\n"
     ]
    },
    {
     "ename": "KeyboardInterrupt",
     "evalue": "",
     "output_type": "error",
     "traceback": [
      "\u001b[0;31m---------------------------------------------------------------------------\u001b[0m",
      "\u001b[0;31mKeyboardInterrupt\u001b[0m                         Traceback (most recent call last)",
      "\u001b[0;32m<ipython-input-58-e02121573185>\u001b[0m in \u001b[0;36m<module>\u001b[0;34m()\u001b[0m\n\u001b[1;32m     11\u001b[0m \u001b[0;34m\u001b[0m\u001b[0m\n\u001b[1;32m     12\u001b[0m             \u001b[0mtf\u001b[0m\u001b[0;34m.\u001b[0m\u001b[0mtrain\u001b[0m\u001b[0;34m.\u001b[0m\u001b[0mglobal_step\u001b[0m\u001b[0;34m(\u001b[0m\u001b[0msess\u001b[0m\u001b[0;34m,\u001b[0m\u001b[0mglobal_step_tensor\u001b[0m\u001b[0;34m)\u001b[0m\u001b[0;34m\u001b[0m\u001b[0m\n\u001b[0;32m---> 13\u001b[0;31m             \u001b[0mp1\u001b[0m\u001b[0;34m,\u001b[0m\u001b[0mp2\u001b[0m\u001b[0;34m,\u001b[0m\u001b[0mp3\u001b[0m\u001b[0;34m=\u001b[0m \u001b[0msess\u001b[0m\u001b[0;34m.\u001b[0m\u001b[0mrun\u001b[0m\u001b[0;34m(\u001b[0m\u001b[0;34m[\u001b[0m \u001b[0mtrain_op\u001b[0m\u001b[0;34m,\u001b[0m \u001b[0mnext_element\u001b[0m\u001b[0;34m,\u001b[0m\u001b[0mglobal_step_tensor\u001b[0m\u001b[0;34m]\u001b[0m\u001b[0;34m)\u001b[0m\u001b[0;34m\u001b[0m\u001b[0m\n\u001b[0m\u001b[1;32m     14\u001b[0m             \u001b[0mprint\u001b[0m\u001b[0;34m(\u001b[0m\u001b[0mp1\u001b[0m\u001b[0;34m)\u001b[0m\u001b[0;34m\u001b[0m\u001b[0m\n\u001b[1;32m     15\u001b[0m             \u001b[0mprint\u001b[0m\u001b[0;34m(\u001b[0m\u001b[0mp3\u001b[0m\u001b[0;34m)\u001b[0m\u001b[0;34m\u001b[0m\u001b[0m\n",
      "\u001b[0;32m~/anaconda3/lib/python3.6/site-packages/tensorflow/python/client/session.py\u001b[0m in \u001b[0;36mrun\u001b[0;34m(self, fetches, feed_dict, options, run_metadata)\u001b[0m\n\u001b[1;32m    903\u001b[0m     \u001b[0;32mtry\u001b[0m\u001b[0;34m:\u001b[0m\u001b[0;34m\u001b[0m\u001b[0m\n\u001b[1;32m    904\u001b[0m       result = self._run(None, fetches, feed_dict, options_ptr,\n\u001b[0;32m--> 905\u001b[0;31m                          run_metadata_ptr)\n\u001b[0m\u001b[1;32m    906\u001b[0m       \u001b[0;32mif\u001b[0m \u001b[0mrun_metadata\u001b[0m\u001b[0;34m:\u001b[0m\u001b[0;34m\u001b[0m\u001b[0m\n\u001b[1;32m    907\u001b[0m         \u001b[0mproto_data\u001b[0m \u001b[0;34m=\u001b[0m \u001b[0mtf_session\u001b[0m\u001b[0;34m.\u001b[0m\u001b[0mTF_GetBuffer\u001b[0m\u001b[0;34m(\u001b[0m\u001b[0mrun_metadata_ptr\u001b[0m\u001b[0;34m)\u001b[0m\u001b[0;34m\u001b[0m\u001b[0m\n",
      "\u001b[0;32m~/anaconda3/lib/python3.6/site-packages/tensorflow/python/client/session.py\u001b[0m in \u001b[0;36m_run\u001b[0;34m(self, handle, fetches, feed_dict, options, run_metadata)\u001b[0m\n\u001b[1;32m   1138\u001b[0m     \u001b[0;32mif\u001b[0m \u001b[0mfinal_fetches\u001b[0m \u001b[0;32mor\u001b[0m \u001b[0mfinal_targets\u001b[0m \u001b[0;32mor\u001b[0m \u001b[0;34m(\u001b[0m\u001b[0mhandle\u001b[0m \u001b[0;32mand\u001b[0m \u001b[0mfeed_dict_tensor\u001b[0m\u001b[0;34m)\u001b[0m\u001b[0;34m:\u001b[0m\u001b[0;34m\u001b[0m\u001b[0m\n\u001b[1;32m   1139\u001b[0m       results = self._do_run(handle, final_targets, final_fetches,\n\u001b[0;32m-> 1140\u001b[0;31m                              feed_dict_tensor, options, run_metadata)\n\u001b[0m\u001b[1;32m   1141\u001b[0m     \u001b[0;32melse\u001b[0m\u001b[0;34m:\u001b[0m\u001b[0;34m\u001b[0m\u001b[0m\n\u001b[1;32m   1142\u001b[0m       \u001b[0mresults\u001b[0m \u001b[0;34m=\u001b[0m \u001b[0;34m[\u001b[0m\u001b[0;34m]\u001b[0m\u001b[0;34m\u001b[0m\u001b[0m\n",
      "\u001b[0;32m~/anaconda3/lib/python3.6/site-packages/tensorflow/python/client/session.py\u001b[0m in \u001b[0;36m_do_run\u001b[0;34m(self, handle, target_list, fetch_list, feed_dict, options, run_metadata)\u001b[0m\n\u001b[1;32m   1319\u001b[0m     \u001b[0;32mif\u001b[0m \u001b[0mhandle\u001b[0m \u001b[0;32mis\u001b[0m \u001b[0;32mNone\u001b[0m\u001b[0;34m:\u001b[0m\u001b[0;34m\u001b[0m\u001b[0m\n\u001b[1;32m   1320\u001b[0m       return self._do_call(_run_fn, feeds, fetches, targets, options,\n\u001b[0;32m-> 1321\u001b[0;31m                            run_metadata)\n\u001b[0m\u001b[1;32m   1322\u001b[0m     \u001b[0;32melse\u001b[0m\u001b[0;34m:\u001b[0m\u001b[0;34m\u001b[0m\u001b[0m\n\u001b[1;32m   1323\u001b[0m       \u001b[0;32mreturn\u001b[0m \u001b[0mself\u001b[0m\u001b[0;34m.\u001b[0m\u001b[0m_do_call\u001b[0m\u001b[0;34m(\u001b[0m\u001b[0m_prun_fn\u001b[0m\u001b[0;34m,\u001b[0m \u001b[0mhandle\u001b[0m\u001b[0;34m,\u001b[0m \u001b[0mfeeds\u001b[0m\u001b[0;34m,\u001b[0m \u001b[0mfetches\u001b[0m\u001b[0;34m)\u001b[0m\u001b[0;34m\u001b[0m\u001b[0m\n",
      "\u001b[0;32m~/anaconda3/lib/python3.6/site-packages/tensorflow/python/client/session.py\u001b[0m in \u001b[0;36m_do_call\u001b[0;34m(self, fn, *args)\u001b[0m\n\u001b[1;32m   1325\u001b[0m   \u001b[0;32mdef\u001b[0m \u001b[0m_do_call\u001b[0m\u001b[0;34m(\u001b[0m\u001b[0mself\u001b[0m\u001b[0;34m,\u001b[0m \u001b[0mfn\u001b[0m\u001b[0;34m,\u001b[0m \u001b[0;34m*\u001b[0m\u001b[0margs\u001b[0m\u001b[0;34m)\u001b[0m\u001b[0;34m:\u001b[0m\u001b[0;34m\u001b[0m\u001b[0m\n\u001b[1;32m   1326\u001b[0m     \u001b[0;32mtry\u001b[0m\u001b[0;34m:\u001b[0m\u001b[0;34m\u001b[0m\u001b[0m\n\u001b[0;32m-> 1327\u001b[0;31m       \u001b[0;32mreturn\u001b[0m \u001b[0mfn\u001b[0m\u001b[0;34m(\u001b[0m\u001b[0;34m*\u001b[0m\u001b[0margs\u001b[0m\u001b[0;34m)\u001b[0m\u001b[0;34m\u001b[0m\u001b[0m\n\u001b[0m\u001b[1;32m   1328\u001b[0m     \u001b[0;32mexcept\u001b[0m \u001b[0merrors\u001b[0m\u001b[0;34m.\u001b[0m\u001b[0mOpError\u001b[0m \u001b[0;32mas\u001b[0m \u001b[0me\u001b[0m\u001b[0;34m:\u001b[0m\u001b[0;34m\u001b[0m\u001b[0m\n\u001b[1;32m   1329\u001b[0m       \u001b[0mmessage\u001b[0m \u001b[0;34m=\u001b[0m \u001b[0mcompat\u001b[0m\u001b[0;34m.\u001b[0m\u001b[0mas_text\u001b[0m\u001b[0;34m(\u001b[0m\u001b[0me\u001b[0m\u001b[0;34m.\u001b[0m\u001b[0mmessage\u001b[0m\u001b[0;34m)\u001b[0m\u001b[0;34m\u001b[0m\u001b[0m\n",
      "\u001b[0;32m~/anaconda3/lib/python3.6/site-packages/tensorflow/python/client/session.py\u001b[0m in \u001b[0;36m_run_fn\u001b[0;34m(feed_dict, fetch_list, target_list, options, run_metadata)\u001b[0m\n\u001b[1;32m   1310\u001b[0m       \u001b[0mself\u001b[0m\u001b[0;34m.\u001b[0m\u001b[0m_extend_graph\u001b[0m\u001b[0;34m(\u001b[0m\u001b[0;34m)\u001b[0m\u001b[0;34m\u001b[0m\u001b[0m\n\u001b[1;32m   1311\u001b[0m       return self._call_tf_sessionrun(\n\u001b[0;32m-> 1312\u001b[0;31m           options, feed_dict, fetch_list, target_list, run_metadata)\n\u001b[0m\u001b[1;32m   1313\u001b[0m \u001b[0;34m\u001b[0m\u001b[0m\n\u001b[1;32m   1314\u001b[0m     \u001b[0;32mdef\u001b[0m \u001b[0m_prun_fn\u001b[0m\u001b[0;34m(\u001b[0m\u001b[0mhandle\u001b[0m\u001b[0;34m,\u001b[0m \u001b[0mfeed_dict\u001b[0m\u001b[0;34m,\u001b[0m \u001b[0mfetch_list\u001b[0m\u001b[0;34m)\u001b[0m\u001b[0;34m:\u001b[0m\u001b[0;34m\u001b[0m\u001b[0m\n",
      "\u001b[0;32m~/anaconda3/lib/python3.6/site-packages/tensorflow/python/client/session.py\u001b[0m in \u001b[0;36m_call_tf_sessionrun\u001b[0;34m(self, options, feed_dict, fetch_list, target_list, run_metadata)\u001b[0m\n\u001b[1;32m   1418\u001b[0m         return tf_session.TF_Run(\n\u001b[1;32m   1419\u001b[0m             \u001b[0mself\u001b[0m\u001b[0;34m.\u001b[0m\u001b[0m_session\u001b[0m\u001b[0;34m,\u001b[0m \u001b[0moptions\u001b[0m\u001b[0;34m,\u001b[0m \u001b[0mfeed_dict\u001b[0m\u001b[0;34m,\u001b[0m \u001b[0mfetch_list\u001b[0m\u001b[0;34m,\u001b[0m \u001b[0mtarget_list\u001b[0m\u001b[0;34m,\u001b[0m\u001b[0;34m\u001b[0m\u001b[0m\n\u001b[0;32m-> 1420\u001b[0;31m             status, run_metadata)\n\u001b[0m\u001b[1;32m   1421\u001b[0m \u001b[0;34m\u001b[0m\u001b[0m\n\u001b[1;32m   1422\u001b[0m   \u001b[0;32mdef\u001b[0m \u001b[0m_call_tf_sessionprun\u001b[0m\u001b[0;34m(\u001b[0m\u001b[0mself\u001b[0m\u001b[0;34m,\u001b[0m \u001b[0mhandle\u001b[0m\u001b[0;34m,\u001b[0m \u001b[0mfeed_dict\u001b[0m\u001b[0;34m,\u001b[0m \u001b[0mfetch_list\u001b[0m\u001b[0;34m)\u001b[0m\u001b[0;34m:\u001b[0m\u001b[0;34m\u001b[0m\u001b[0m\n",
      "\u001b[0;31mKeyboardInterrupt\u001b[0m: "
     ]
    }
   ],
   "source": [
    "global_step_tensor = tf.Variable(10, trainable=False, name='global_step')\n",
    "increment_global_step_op = tf.assign(global_step_tensor, global_step_tensor+1)\n",
    "\n",
    "with tf.Session() as sess:\n",
    "    saver = tf.train.Saver()\n",
    "    ckpt_path = './ckpt/test-model.ckpt'\n",
    "    tf.global_variables_initializer().run()\n",
    "    while True:\n",
    "        try:\n",
    "            #To use tensorboard, please refer to tf.summary. \n",
    "            # Tensorboard is very useful to understand tensorflow. \n",
    "            \n",
    "            tf.train.global_step(sess,global_step_tensor)\n",
    "            p1,p2,p3= sess.run([ train_op, next_element,increment_global_step_op])\n",
    "            print(p1)\n",
    "            print(tf.train.get_global_step(sess,global_step_tensor))\n",
    "            #adjust saving frequency \n",
    "            save_path = saver.save(sess, ckpt_path, global_step=p3)\n",
    "            print(\"Model saved in file: %s\" % save_path)\n",
    "        except tf.errors.OutOfRangeError:\n",
    "            break"
   ]
  },
  {
   "cell_type": "code",
   "execution_count": null,
   "metadata": {
    "scrolled": true
   },
   "outputs": [],
   "source": [
    "# iterator = tf.data.Iterator.from_structure(output_types=tf.int32)\n",
    "# sess = tf.InteractiveSession()\n",
    "# inc_dataset = tf.data.Dataset.range(100)\n",
    "# dec_dataset = tf.data.Dataset.range(0, -100, -1)\n",
    "# dataset = tf.data.Dataset.zip((inc_dataset, dec_dataset))\n",
    "# batched_dataset = dataset.batch(4)\n",
    "\n",
    "# iterator = batched_dataset.make_one_shot_iterator()\n",
    "# next_element = iterator.get_next()\n",
    "\n",
    "# print(sess.run(next_element))  # ==> ([0, 1, 2,   3],   [ 0, -1,  -2,  -3])\n",
    "# print(sess.run(next_element))  # ==> ([4, 5, 6,   7],   [-4, -5,  -6,  -7])\n",
    "# print(sess.run(next_element))  # ==> ([8, 9, 10, 11],   [-8, -9, -10, -11])"
   ]
  }
 ],
 "metadata": {
  "kernelspec": {
   "display_name": "Python 3",
   "language": "python",
   "name": "python3"
  },
  "language_info": {
   "codemirror_mode": {
    "name": "ipython",
    "version": 3
   },
   "file_extension": ".py",
   "mimetype": "text/x-python",
   "name": "python",
   "nbconvert_exporter": "python",
   "pygments_lexer": "ipython3",
   "version": "3.6.4"
  }
 },
 "nbformat": 4,
 "nbformat_minor": 2
}
