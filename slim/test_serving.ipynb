{
 "cells": [
  {
   "cell_type": "code",
   "execution_count": 5,
   "metadata": {},
   "outputs": [],
   "source": [
    "import requests\n",
    "\n",
    "import tensorflow as tf\n",
    "from grpc.beta import implementations\n",
    "from tensorflow_serving.apis import predict_pb2\n",
    "from tensorflow_serving.apis import prediction_service_pb2\n",
    "# import argparse\n",
    "# parser = argparse.ArgumentParser()\n",
    "# parser.add_argument(\"--url\",type=str,default=\"\")\n",
    "# args = parser.parse_args()\n",
    "# url = args.url\n",
    "SERVER_ADDR = '127.0.0.1'\n",
    "SERVER_PORT = '9777'\n",
    "url =\"\"\n",
    "if url ==\"\":\n",
    "    url  =\"https://encrypted-tbn0.gstatic.com/images?q=tbn:ANd9GcTIO5WoybkBkRt7HsiNJJgXz9YhwRjisxbt3HPeqg2AsIWi3h3_\"\n",
    "r = requests.get(url)\n",
    "files = {'image':r.content}\n",
    "image_data = r.content\n"
   ]
  },
  {
   "cell_type": "code",
   "execution_count": 6,
   "metadata": {},
   "outputs": [],
   "source": [
    "channel = implementations.insecure_channel(SERVER_ADDR, int(SERVER_PORT))\n",
    "stub = prediction_service_pb2.beta_create_PredictionService_stub(channel)\n",
    "request = predict_pb2.PredictRequest()\n",
    "request.model_spec.name = 'inception'\n",
    "request.model_spec.signature_name = 'predict_images'\n",
    "request.inputs['images'].CopyFrom(\n",
    "    tf.contrib.util.make_tensor_proto(image_data, shape=[1]))\n",
    "result = stub.Predict(request, 20.0) # 20 seconds timeout\n"
   ]
  },
  {
   "cell_type": "code",
   "execution_count": 7,
   "metadata": {},
   "outputs": [
    {
     "data": {
      "text/plain": [
       "outputs {\n",
       "  key: \"classes_first\"\n",
       "  value {\n",
       "    dtype: DT_STRING\n",
       "    tensor_shape {\n",
       "      dim {\n",
       "        size: 1\n",
       "      }\n",
       "    }\n",
       "    string_val: \"csam\"\n",
       "  }\n",
       "}\n",
       "outputs {\n",
       "  key: \"classes_second\"\n",
       "  value {\n",
       "    dtype: DT_STRING\n",
       "    tensor_shape {\n",
       "      dim {\n",
       "        size: 1\n",
       "      }\n",
       "    }\n",
       "    string_val: \"csam\"\n",
       "  }\n",
       "}\n",
       "outputs {\n",
       "  key: \"scores_first\"\n",
       "  value {\n",
       "    dtype: DT_FLOAT\n",
       "    tensor_shape {\n",
       "      dim {\n",
       "        size: 1\n",
       "      }\n",
       "      dim {\n",
       "        size: 1\n",
       "      }\n",
       "    }\n",
       "    float_val: 0.5075064301490784\n",
       "  }\n",
       "}\n",
       "outputs {\n",
       "  key: \"scores_second\"\n",
       "  value {\n",
       "    dtype: DT_FLOAT\n",
       "    tensor_shape {\n",
       "      dim {\n",
       "        size: 1\n",
       "      }\n",
       "      dim {\n",
       "        size: 1\n",
       "      }\n",
       "    }\n",
       "    float_val: 0.4985972046852112\n",
       "  }\n",
       "}"
      ]
     },
     "execution_count": 7,
     "metadata": {},
     "output_type": "execute_result"
    }
   ],
   "source": [
    "result"
   ]
  },
  {
   "cell_type": "code",
   "execution_count": null,
   "metadata": {},
   "outputs": [],
   "source": []
  }
 ],
 "metadata": {
  "kernelspec": {
   "display_name": "Python 2",
   "language": "python",
   "name": "python2"
  },
  "language_info": {
   "codemirror_mode": {
    "name": "ipython",
    "version": 2
   },
   "file_extension": ".py",
   "mimetype": "text/x-python",
   "name": "python",
   "nbconvert_exporter": "python",
   "pygments_lexer": "ipython2",
   "version": "2.7.14"
  }
 },
 "nbformat": 4,
 "nbformat_minor": 2
}
